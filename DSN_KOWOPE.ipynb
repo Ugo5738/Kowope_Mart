{
  "nbformat": 4,
  "nbformat_minor": 0,
  "metadata": {
    "colab": {
      "name": "DSN_KOWOPE.ipynb",
      "provenance": [],
      "collapsed_sections": [],
      "authorship_tag": "ABX9TyMmL/DQwAycbWulsf9gJzQD",
      "include_colab_link": true
    },
    "kernelspec": {
      "display_name": "Python 3",
      "name": "python3"
    }
  },
  "cells": [
    {
      "cell_type": "markdown",
      "metadata": {
        "id": "view-in-github",
        "colab_type": "text"
      },
      "source": [
        "<a href=\"https://colab.research.google.com/github/Ugo5738/Kowope_Mart/blob/main/DSN_KOWOPE.ipynb\" target=\"_parent\"><img src=\"https://colab.research.google.com/assets/colab-badge.svg\" alt=\"Open In Colab\"/></a>"
      ]
    },
    {
      "cell_type": "code",
      "metadata": {
        "id": "PTahGItAG0q1",
        "outputId": "5bda3193-35dd-4b3b-cb2d-1fe78f285358",
        "colab": {
          "base_uri": "https://localhost:8080/",
          "height": 265
        }
      },
      "source": [
        "!pip install catboost"
      ],
      "execution_count": null,
      "outputs": [
        {
          "output_type": "stream",
          "text": [
            "Requirement already satisfied: catboost in /usr/local/lib/python3.6/dist-packages (0.24.2)\n",
            "Requirement already satisfied: matplotlib in /usr/local/lib/python3.6/dist-packages (from catboost) (3.2.2)\n",
            "Requirement already satisfied: scipy in /usr/local/lib/python3.6/dist-packages (from catboost) (1.4.1)\n",
            "Requirement already satisfied: plotly in /usr/local/lib/python3.6/dist-packages (from catboost) (4.4.1)\n",
            "Requirement already satisfied: six in /usr/local/lib/python3.6/dist-packages (from catboost) (1.15.0)\n",
            "Requirement already satisfied: numpy>=1.16.0 in /usr/local/lib/python3.6/dist-packages (from catboost) (1.18.5)\n",
            "Requirement already satisfied: graphviz in /usr/local/lib/python3.6/dist-packages (from catboost) (0.10.1)\n",
            "Requirement already satisfied: pandas>=0.24.0 in /usr/local/lib/python3.6/dist-packages (from catboost) (1.1.2)\n",
            "Requirement already satisfied: python-dateutil>=2.1 in /usr/local/lib/python3.6/dist-packages (from matplotlib->catboost) (2.8.1)\n",
            "Requirement already satisfied: kiwisolver>=1.0.1 in /usr/local/lib/python3.6/dist-packages (from matplotlib->catboost) (1.2.0)\n",
            "Requirement already satisfied: pyparsing!=2.0.4,!=2.1.2,!=2.1.6,>=2.0.1 in /usr/local/lib/python3.6/dist-packages (from matplotlib->catboost) (2.4.7)\n",
            "Requirement already satisfied: cycler>=0.10 in /usr/local/lib/python3.6/dist-packages (from matplotlib->catboost) (0.10.0)\n",
            "Requirement already satisfied: retrying>=1.3.3 in /usr/local/lib/python3.6/dist-packages (from plotly->catboost) (1.3.3)\n",
            "Requirement already satisfied: pytz>=2017.2 in /usr/local/lib/python3.6/dist-packages (from pandas>=0.24.0->catboost) (2018.9)\n"
          ],
          "name": "stdout"
        }
      ]
    },
    {
      "cell_type": "code",
      "metadata": {
        "id": "sO1pTXCcG6Or"
      },
      "source": [
        "import pandas as pd\n",
        "import numpy as np\n",
        "import seaborn as sns\n",
        "import matplotlib.pyplot as plt\n",
        "% matplotlib inline\n",
        "\n",
        "\n",
        "from sklearn.base import BaseEstimator, TransformerMixin\n",
        "\n",
        "\n",
        "import xgboost\n",
        "from catboost import CatBoostClassifier\n",
        "from lightgbm import LGBMModel,LGBMClassifier\n",
        "from sklearn.ensemble import GradientBoostingClassifier, RandomForestClassifier, VotingClassifier\n",
        "from mlxtend.classifier import StackingClassifier\n",
        "from sklearn.linear_model import LinearRegression\n",
        "\n",
        "\n",
        "from sklearn import model_selection\n",
        "from sklearn.model_selection import train_test_split, RandomizedSearchCV, StratifiedKFold\n",
        "from sklearn.metrics import roc_auc_score\n",
        "\n",
        "\n",
        "import os, gc, warnings\n",
        "warnings.filterwarnings('ignore')"
      ],
      "execution_count": null,
      "outputs": []
    },
    {
      "cell_type": "code",
      "metadata": {
        "id": "4RjhBvx_G-k8",
        "outputId": "bcfb8417-912f-4c87-d72e-cb72cfaccdd8",
        "colab": {
          "base_uri": "https://localhost:8080/",
          "height": 34
        }
      },
      "source": [
        "from google.colab import drive\n",
        "drive.mount('/content/drive')"
      ],
      "execution_count": null,
      "outputs": [
        {
          "output_type": "stream",
          "text": [
            "Drive already mounted at /content/drive; to attempt to forcibly remount, call drive.mount(\"/content/drive\", force_remount=True).\n"
          ],
          "name": "stdout"
        }
      ]
    },
    {
      "cell_type": "code",
      "metadata": {
        "id": "ba1go5GIHChs"
      },
      "source": [
        "Train = pd.read_csv('/content/drive/My Drive/Colab Notebooks/Train.csv')\n",
        "Test = pd.read_csv('/content/drive/My Drive/Colab Notebooks/Test.csv')"
      ],
      "execution_count": null,
      "outputs": []
    },
    {
      "cell_type": "code",
      "metadata": {
        "id": "vMdxYhePHQaU"
      },
      "source": [
        "def fill_arbitary(col):\n",
        "    for i in col:\n",
        "        b = -999999\n",
        "        Train[i].fillna(b,inplace=True)\n",
        "        Test[i].fillna(b,inplace= True)"
      ],
      "execution_count": null,
      "outputs": []
    },
    {
      "cell_type": "code",
      "metadata": {
        "id": "QRrFvqrkUMwg"
      },
      "source": [
        "def model_predict(estimator,train,label,test, estimator_name):\n",
        "    mean_train = []\n",
        "    mean_test_val = []\n",
        "    test_pred = np.zeros(test.shape[0])\n",
        "    val_pred = np.zeros(train.shape[0])\n",
        "    for count, (train_index,test_index) in enumerate(skf.split(train,label)):\n",
        "        x_train,x_test = train.iloc[train_index],train.iloc[test_index]\n",
        "        y_train,y_test = label.iloc[train_index],label.iloc[test_index]\n",
        "        print(f'========================Fold{count +1}==========================')\n",
        "        estimator.fit(x_train, y_train)\n",
        "        train_predict = estimator.predict_proba(x_train)[:,1]\n",
        "        test_predict = estimator.predict_proba(x_test)[:,1]\n",
        "        val_pred[test_index] = test_predict\n",
        "        test_pred+= estimator.predict_proba(test)[:,1]\n",
        "        \n",
        "        print('\\nValidation scores', roc_auc_score(y_test,test_predict))\n",
        "        print('\\nTraining scores', roc_auc_score(y_train,train_predict))\n",
        "        mean_train.append(roc_auc_score(y_train, train_predict))\n",
        "        mean_test_val.append(roc_auc_score(y_test,test_predict))\n",
        "    print('Average Testing ROC score for 10 folds split:',np.mean(mean_test_val))\n",
        "    print('Average Training ROC score for 10 folds split:',np.mean(mean_train))\n",
        "    print('standard Deviation for 10 folds split:',np.std(mean_test_val))\n",
        "    return val_pred, test_pred, estimator_name\n",
        "        \n",
        "\n",
        "def lgbm_predict(estimator,train,label,test,estimator_name):\n",
        "    mean_train = []\n",
        "    mean_test_val = []\n",
        "    test_pred = np.zeros(test.shape[0])\n",
        "    val_pred = np.zeros(train.shape[0])\n",
        "    for count, (train_index,test_index) in enumerate(skf.split(train,label)):\n",
        "        x_train,x_test = train.iloc[train_index],train.iloc[test_index]\n",
        "        y_train,y_test = label.iloc[train_index],label.iloc[test_index]\n",
        "        print(f'========================Fold{count +1}==========================')\n",
        "        estimator.fit(x_train,y_train,eval_set=[(x_test,y_test)],early_stopping_rounds=200,\n",
        "                               verbose=250)\n",
        "        train_predict = estimator.predict_proba(x_train, num_iteration = estimator.best_iteration_)[:,1]\n",
        "        test_predict = estimator.predict_proba(x_test, num_iteration = estimator.best_iteration_)[:,1]\n",
        "        val_pred[test_index] = test_predict\n",
        "        test_pred+= estimator.predict_proba(test, num_iteration = estimator.best_iteration_)[:,1]\n",
        "        \n",
        "        print('\\nValidation scores', roc_auc_score(y_test,test_predict))\n",
        "        print('\\nTraining scores', roc_auc_score(y_train,train_predict))\n",
        "        mean_train.append(roc_auc_score(y_train, train_predict))\n",
        "        mean_test_val.append(roc_auc_score(y_test,test_predict))\n",
        "    print('Average Testing ROC score for 10 folds split:',np.mean(mean_test_val))\n",
        "    print('Average Training ROC score for 10 folds split:',np.mean(mean_train))\n",
        "    print('standard Deviation for 10 folds split:',np.std(mean_test_val))\n",
        "    return val_pred, test_pred, estimator_name\n",
        "\n",
        "\n",
        "def xgb_predict(estimator,train,label,test,estimator_name):\n",
        "    mean_train = []\n",
        "    mean_test_val = []\n",
        "    test_pred = np.zeros(test.shape[0])\n",
        "    val_pred = np.zeros(train.shape[0])\n",
        "    for count, (train_index,test_index) in enumerate(skf.split(train,label)):\n",
        "        x_train,x_test = train.iloc[train_index],train.iloc[test_index]\n",
        "        y_train,y_test = label.iloc[train_index],label.iloc[test_index]\n",
        "        print(f'========================Fold{count +1}==========================')\n",
        "        estimator.fit(x_train, y_train, early_stopping_rounds = 200, eval_metric=\"auc\",\n",
        "                           eval_set=[(x_test, y_test)],verbose=250)\n",
        "        train_predict = estimator.predict_proba(x_train, ntree_limit = estimator.get_booster().best_ntree_limit)[:,1]\n",
        "        test_predict = estimator.predict_proba(x_test, ntree_limit = estimator.get_booster().best_ntree_limit)[:,1]\n",
        "        val_pred[test_index] = test_predict\n",
        "        test_pred+= estimator.predict_proba(test, ntree_limit = estimator.get_booster().best_ntree_limit)[:,1]\n",
        "        \n",
        "        print('\\nTesting scores', roc_auc_score(y_test,test_predict))\n",
        "        print('\\nTraining scores', roc_auc_score(y_train,train_predict))\n",
        "        mean_train.append(roc_auc_score(y_train, train_predict))\n",
        "        mean_test_val.append(roc_auc_score(y_test,test_predict))\n",
        "    print('Average Testing ROC score for 10 folds split:',np.mean(mean_test_val))\n",
        "    print('Average Training ROC score for 10 folds split:',np.mean(mean_train))\n",
        "    print('standard Deviation for 10 folds split:',np.std(mean_test_val))\n",
        "    return val_pred, test_pred, estimator_name\n",
        "\n",
        "def cat_predict(estimator,train,label,test,estimator_name):\n",
        "    mean_train = []\n",
        "    mean_test_val = []\n",
        "    test_pred = np.zeros(test.shape[0])\n",
        "    val_pred = np.zeros(train.shape[0])\n",
        "    for count, (train_index,test_index) in enumerate(skf.split(train,label)):\n",
        "        x_train,x_test = train.iloc[train_index],train.iloc[test_index]\n",
        "        y_train,y_test = label.iloc[train_index],label.iloc[test_index]\n",
        "        print(f'========================Fold{count +1}==========================')\n",
        "        estimator.fit(x_train,y_train,eval_set=[(x_test,y_test)],early_stopping_rounds=200,\n",
        "                           verbose=250,use_best_model=True)\n",
        "        train_predict = estimator.predict_proba(x_train)[:,1]\n",
        "        test_predict = estimator.predict_proba(x_test)[:,1]\n",
        "        val_pred[test_index] = test_predict\n",
        "        test_pred+= estimator.predict_proba(test)[:,1]\n",
        "        \n",
        "        print('\\nTesting scores', roc_auc_score(y_test,test_predict))\n",
        "        print('\\nTraining scores', roc_auc_score(y_train,train_predict))\n",
        "        mean_train.append(roc_auc_score(y_train, train_predict))\n",
        "        mean_test_val.append(roc_auc_score(y_test,test_predict))\n",
        "    print('Average Testing ROC score for 10 folds split:',np.mean(mean_test_val))\n",
        "    print('Average Training ROC score for 10 folds split:',np.mean(mean_train))\n",
        "    print('standard Deviation for 10 folds split:',np.std(mean_test_val))\n",
        "    return val_pred, test_pred, estimator_name"
      ],
      "execution_count": null,
      "outputs": []
    },
    {
      "cell_type": "code",
      "metadata": {
        "id": "gvU621iSHU44"
      },
      "source": [
        "class TargetEncoder(BaseEstimator, TransformerMixin):\n",
        "    \"\"\"Target encoder.\n",
        "    \n",
        "    Replaces categorical column(s) with the mean target value for\n",
        "    each category.\n",
        "\n",
        "    \"\"\"\n",
        "    \n",
        "    def __init__(self, cols=None):\n",
        "        \"\"\"Target encoder\n",
        "        \n",
        "        Parameters\n",
        "        ----------\n",
        "        cols : list of str\n",
        "            Columns to target encode.  Default is to target \n",
        "            encode all categorical columns in the DataFrame.\n",
        "        \"\"\"\n",
        "        if isinstance(cols, str):\n",
        "            self.cols = [cols]\n",
        "        else:\n",
        "            self.cols = cols\n",
        "        \n",
        "        \n",
        "    def fit(self, X, y):\n",
        "        \"\"\"Fit target encoder to X and y\n",
        "        \n",
        "        Parameters\n",
        "        ----------\n",
        "        X : pandas DataFrame, shape [n_samples, n_columns]\n",
        "            DataFrame containing columns to encode\n",
        "        y : pandas Series, shape = [n_samples]\n",
        "            Target values.\n",
        "            \n",
        "        Returns\n",
        "        -------\n",
        "        self : encoder\n",
        "            Returns self.\n",
        "        \"\"\"\n",
        "        \n",
        "        # Encode all categorical cols by default\n",
        "        if self.cols is None:\n",
        "            self.cols = [col for col in X \n",
        "                         if str(X[col].dtype)=='object']\n",
        "\n",
        "        # Check columns are in X\n",
        "        for col in self.cols:\n",
        "            if col not in X:\n",
        "                raise ValueError('Column \\''+col+'\\' not in X')\n",
        "\n",
        "        # Encode each element of each column\n",
        "        self.maps = dict() #dict to store map for each column\n",
        "        for col in self.cols:\n",
        "            tmap = dict()\n",
        "            uniques = X[col].unique()\n",
        "            for unique in uniques:\n",
        "                tmap[unique] = y[X[col]==unique].mean()\n",
        "            self.maps[col] = tmap\n",
        "            \n",
        "        return self\n",
        "\n",
        "        \n",
        "    def transform(self, X, y=None):\n",
        "        \"\"\"Perform the target encoding transformation.\n",
        "        \n",
        "        Parameters\n",
        "        ----------\n",
        "        X : pandas DataFrame, shape [n_samples, n_columns]\n",
        "            DataFrame containing columns to encode\n",
        "            \n",
        "        Returns\n",
        "        -------\n",
        "        pandas DataFrame\n",
        "            Input DataFrame with transformed columns\n",
        "        \"\"\"\n",
        "        Xo = X.copy()\n",
        "        for col, tmap in self.maps.items():\n",
        "            vals = np.full(X.shape[0], np.nan)\n",
        "            for val, mean_target in tmap.items():\n",
        "                vals[X[col]==val] = mean_target\n",
        "            Xo[col] = vals\n",
        "        return Xo\n",
        "            \n",
        "            \n",
        "    def fit_transform(self, X, y=None):\n",
        "        \"\"\"Fit and transform the data via target encoding.\n",
        "        \n",
        "        Parameters\n",
        "        ----------\n",
        "        X : pandas DataFrame, shape [n_samples, n_columns]\n",
        "            DataFrame containing columns to encode\n",
        "        y : pandas Series, shape = [n_samples]\n",
        "            Target values (required!).\n",
        "\n",
        "        Returns\n",
        "        -------\n",
        "        pandas DataFrame\n",
        "            Input DataFrame with transformed columns\n",
        "        \"\"\"\n",
        "        return self.fit(X, y).transform(X, y)"
      ],
      "execution_count": null,
      "outputs": []
    },
    {
      "cell_type": "code",
      "metadata": {
        "id": "FYwUUuRzHY6t"
      },
      "source": [
        "fill_arbitary(Train.drop([\"Applicant_ID\",\"default_status\"],axis=1))"
      ],
      "execution_count": null,
      "outputs": []
    },
    {
      "cell_type": "code",
      "metadata": {
        "id": "H6RFm4yGHc8c"
      },
      "source": [
        "Train.default_status.replace({\"yes\":1,\"no\":0},inplace=True)"
      ],
      "execution_count": null,
      "outputs": []
    },
    {
      "cell_type": "code",
      "metadata": {
        "id": "XQOas41UHgPW"
      },
      "source": [
        "encoder = TargetEncoder()\n",
        "a = pd.DataFrame(Train.form_field47)\n",
        "b = pd.DataFrame(Test.form_field47)\n",
        "\n",
        "\n",
        "X_target_encoded = encoder.fit(a,Train[\"default_status\"])\n",
        "Train = X_target_encoded.transform(Train)\n",
        "Test = X_target_encoded.transform(Test)"
      ],
      "execution_count": null,
      "outputs": []
    },
    {
      "cell_type": "code",
      "metadata": {
        "id": "K9lCaAX1Sq_X"
      },
      "source": [
        "Train = pd.get_dummies(Train, columns=['form_field47'])\n",
        "Test = pd.get_dummies(Test, columns=['form_field47'])"
      ],
      "execution_count": null,
      "outputs": []
    },
    {
      "cell_type": "code",
      "metadata": {
        "id": "24exL3sSHko2"
      },
      "source": [
        "train = Train.drop([\"Applicant_ID\",\"default_status\"],1)\n",
        "target = Train[\"default_status\"]\n",
        "\n",
        "test = Test.drop([\"Applicant_ID\"],1)"
      ],
      "execution_count": null,
      "outputs": []
    },
    {
      "cell_type": "code",
      "metadata": {
        "id": "Hy45aOguanvW"
      },
      "source": [
        "skf = StratifiedKFold(n_splits = 10,shuffle=True,random_state=199)"
      ],
      "execution_count": null,
      "outputs": []
    },
    {
      "cell_type": "markdown",
      "metadata": {
        "id": "EdAey9k8Vv8B"
      },
      "source": [
        "XGBOOST"
      ]
    },
    {
      "cell_type": "code",
      "metadata": {
        "id": "tdxdmhsAHwN1"
      },
      "source": [
        "clf1=xgboost.XGBClassifier(base_score=0.5, booster='gbtree', colsample_bylevel=1,\n",
        "              colsample_bynode=1, colsample_bytree=0.3, gamma=0.0,\n",
        "              learning_rate=0.01, max_delta_step=0, max_depth=6,\n",
        "              min_child_weight=5, missing=None, n_estimators=700, n_jobs=1,\n",
        "              nthread=None, objective='binary:logistic', random_state=40,\n",
        "              reg_alpha=0, reg_lambda=1, scale_pos_weight=1, seed=None,\n",
        "              silent=None, subsample=0.7, verbosity=1)"
      ],
      "execution_count": null,
      "outputs": []
    },
    {
      "cell_type": "code",
      "metadata": {
        "id": "0XVHDmJNIAXd",
        "outputId": "74df4b05-1463-4809-f241-ea77d03cb573",
        "colab": {
          "base_uri": "https://localhost:8080/",
          "height": 1000
        }
      },
      "source": [
        "XGB_train, XGB_test, XGB_name = xgb_predict(clf1, train, target, test,'XGB')"
      ],
      "execution_count": null,
      "outputs": [
        {
          "output_type": "stream",
          "text": [
            "========================Fold1==========================\n",
            "[0]\tvalidation_0-auc:0.783569\n",
            "Will train until validation_0-auc hasn't improved in 200 rounds.\n",
            "[250]\tvalidation_0-auc:0.831124\n",
            "[500]\tvalidation_0-auc:0.833935\n",
            "[699]\tvalidation_0-auc:0.834871\n",
            "\n",
            "Testing scores 0.8348708571412803\n",
            "\n",
            "Training scores 0.8726294761950564\n",
            "========================Fold2==========================\n",
            "[0]\tvalidation_0-auc:0.790504\n",
            "Will train until validation_0-auc hasn't improved in 200 rounds.\n",
            "[250]\tvalidation_0-auc:0.833055\n",
            "[500]\tvalidation_0-auc:0.835176\n",
            "[699]\tvalidation_0-auc:0.835863\n",
            "\n",
            "Testing scores 0.8358631028608515\n",
            "\n",
            "Training scores 0.8723105346951949\n",
            "========================Fold3==========================\n",
            "[0]\tvalidation_0-auc:0.790541\n",
            "Will train until validation_0-auc hasn't improved in 200 rounds.\n",
            "[250]\tvalidation_0-auc:0.835962\n",
            "[500]\tvalidation_0-auc:0.839742\n",
            "[699]\tvalidation_0-auc:0.841372\n",
            "\n",
            "Testing scores 0.841372282901621\n",
            "\n",
            "Training scores 0.8717170006294914\n",
            "========================Fold4==========================\n",
            "[0]\tvalidation_0-auc:0.802071\n",
            "Will train until validation_0-auc hasn't improved in 200 rounds.\n",
            "[250]\tvalidation_0-auc:0.842515\n",
            "[500]\tvalidation_0-auc:0.845995\n",
            "[699]\tvalidation_0-auc:0.847387\n",
            "\n",
            "Testing scores 0.8473930222686983\n",
            "\n",
            "Training scores 0.8713779819956291\n",
            "========================Fold5==========================\n",
            "[0]\tvalidation_0-auc:0.791245\n",
            "Will train until validation_0-auc hasn't improved in 200 rounds.\n",
            "[250]\tvalidation_0-auc:0.834076\n",
            "[500]\tvalidation_0-auc:0.838032\n",
            "[699]\tvalidation_0-auc:0.839907\n",
            "\n",
            "Testing scores 0.8399071121406688\n",
            "\n",
            "Training scores 0.8713854048834265\n",
            "========================Fold6==========================\n",
            "[0]\tvalidation_0-auc:0.792897\n",
            "Will train until validation_0-auc hasn't improved in 200 rounds.\n",
            "[250]\tvalidation_0-auc:0.842445\n",
            "[500]\tvalidation_0-auc:0.844653\n",
            "[699]\tvalidation_0-auc:0.845389\n",
            "\n",
            "Testing scores 0.845461397155159\n",
            "\n",
            "Training scores 0.8704780831967167\n",
            "========================Fold7==========================\n",
            "[0]\tvalidation_0-auc:0.774624\n",
            "Will train until validation_0-auc hasn't improved in 200 rounds.\n",
            "[250]\tvalidation_0-auc:0.82707\n",
            "[500]\tvalidation_0-auc:0.832472\n",
            "[699]\tvalidation_0-auc:0.834565\n",
            "\n",
            "Testing scores 0.8345746529453788\n",
            "\n",
            "Training scores 0.8721230336554464\n",
            "========================Fold8==========================\n",
            "[0]\tvalidation_0-auc:0.789074\n",
            "Will train until validation_0-auc hasn't improved in 200 rounds.\n",
            "[250]\tvalidation_0-auc:0.829003\n",
            "[500]\tvalidation_0-auc:0.832207\n",
            "[699]\tvalidation_0-auc:0.833425\n",
            "\n",
            "Testing scores 0.8334248147157227\n",
            "\n",
            "Training scores 0.8723327496975007\n",
            "========================Fold9==========================\n",
            "[0]\tvalidation_0-auc:0.797298\n",
            "Will train until validation_0-auc hasn't improved in 200 rounds.\n",
            "[250]\tvalidation_0-auc:0.836494\n",
            "[500]\tvalidation_0-auc:0.839825\n",
            "[699]\tvalidation_0-auc:0.841088\n",
            "\n",
            "Testing scores 0.8410876159492046\n",
            "\n",
            "Training scores 0.8713398505796698\n",
            "========================Fold10==========================\n",
            "[0]\tvalidation_0-auc:0.795566\n",
            "Will train until validation_0-auc hasn't improved in 200 rounds.\n",
            "[250]\tvalidation_0-auc:0.838427\n",
            "[500]\tvalidation_0-auc:0.842228\n",
            "[699]\tvalidation_0-auc:0.843474\n",
            "\n",
            "Testing scores 0.8434780555011572\n",
            "\n",
            "Training scores 0.8713463009901032\n",
            "Average Testing ROC score for 10 folds split: 0.8397432913579742\n",
            "Average Training ROC score for 10 folds split: 0.8717040416518236\n",
            "standard Deviation for 10 folds split: 0.004637733147910091\n"
          ],
          "name": "stdout"
        }
      ]
    },
    {
      "cell_type": "markdown",
      "metadata": {
        "id": "7DBgs6csIuvW"
      },
      "source": [
        "CATBOOST"
      ]
    },
    {
      "cell_type": "code",
      "metadata": {
        "id": "NCFPzM-NIUpF"
      },
      "source": [
        "clf2=CatBoostClassifier(border_count=200, max_depth=7, n_estimators=5000, l2_leaf_reg=10, learning_rate=0.03,\n",
        "                        bootstrap_type = 'Bernoulli', silent=False, use_best_model=False, eval_metric='AUC', random_seed=34)"
      ],
      "execution_count": null,
      "outputs": []
    },
    {
      "cell_type": "code",
      "metadata": {
        "id": "gg4IBAbcI08X",
        "outputId": "81d95980-fed2-498f-faad-9d94f744fce3",
        "colab": {
          "base_uri": "https://localhost:8080/",
          "height": 1000
        }
      },
      "source": [
        "CAT_train, CAT_test, CAT_name = cat_predict(clf2, train, target, test,'CAT')"
      ],
      "execution_count": null,
      "outputs": [
        {
          "output_type": "stream",
          "text": [
            "========================Fold1==========================\n",
            "0:\ttest: 0.7900518\tbest: 0.7900518 (0)\ttotal: 56.8ms\tremaining: 4m 43s\n",
            "250:\ttest: 0.8335453\tbest: 0.8335507 (249)\ttotal: 11s\tremaining: 3m 27s\n",
            "500:\ttest: 0.8353724\tbest: 0.8353724 (500)\ttotal: 21.7s\tremaining: 3m 15s\n",
            "750:\ttest: 0.8353617\tbest: 0.8355416 (608)\ttotal: 32.5s\tremaining: 3m 3s\n",
            "Stopped by overfitting detector  (200 iterations wait)\n",
            "\n",
            "bestTest = 0.8355416104\n",
            "bestIteration = 608\n",
            "\n",
            "Shrink model to first 609 iterations.\n",
            "\n",
            "Testing scores 0.8355416104184248\n",
            "\n",
            "Training scores 0.8729225301874605\n",
            "========================Fold2==========================\n",
            "0:\ttest: 0.7961931\tbest: 0.7961931 (0)\ttotal: 48.7ms\tremaining: 4m 3s\n",
            "250:\ttest: 0.8353298\tbest: 0.8353809 (244)\ttotal: 11s\tremaining: 3m 28s\n",
            "500:\ttest: 0.8370820\tbest: 0.8371787 (490)\ttotal: 21.9s\tremaining: 3m 16s\n",
            "750:\ttest: 0.8374007\tbest: 0.8374126 (676)\ttotal: 32.9s\tremaining: 3m 6s\n",
            "Stopped by overfitting detector  (200 iterations wait)\n",
            "\n",
            "bestTest = 0.8374512479\n",
            "bestIteration = 754\n",
            "\n",
            "Shrink model to first 755 iterations.\n",
            "\n",
            "Testing scores 0.8374512479305218\n",
            "\n",
            "Training scores 0.8806035948353764\n",
            "========================Fold3==========================\n",
            "0:\ttest: 0.7976162\tbest: 0.7976162 (0)\ttotal: 51.3ms\tremaining: 4m 16s\n",
            "250:\ttest: 0.8387629\tbest: 0.8387629 (250)\ttotal: 11.5s\tremaining: 3m 37s\n",
            "500:\ttest: 0.8420867\tbest: 0.8420881 (499)\ttotal: 22.5s\tremaining: 3m 22s\n",
            "750:\ttest: 0.8430277\tbest: 0.8430527 (744)\ttotal: 33.8s\tremaining: 3m 11s\n",
            "1000:\ttest: 0.8432417\tbest: 0.8432502 (997)\ttotal: 45.2s\tremaining: 3m\n",
            "1250:\ttest: 0.8431715\tbest: 0.8433837 (1192)\ttotal: 56.7s\tremaining: 2m 49s\n",
            "Stopped by overfitting detector  (200 iterations wait)\n",
            "\n",
            "bestTest = 0.8433836804\n",
            "bestIteration = 1192\n",
            "\n",
            "Shrink model to first 1193 iterations.\n",
            "\n",
            "Testing scores 0.8433836803606234\n",
            "\n",
            "Training scores 0.8986255127859466\n",
            "========================Fold4==========================\n",
            "0:\ttest: 0.8023044\tbest: 0.8023044 (0)\ttotal: 62.7ms\tremaining: 5m 13s\n",
            "250:\ttest: 0.8452849\tbest: 0.8452849 (250)\ttotal: 13.2s\tremaining: 4m 9s\n",
            "500:\ttest: 0.8474455\tbest: 0.8476055 (484)\ttotal: 24.6s\tremaining: 3m 40s\n",
            "750:\ttest: 0.8481216\tbest: 0.8481824 (739)\ttotal: 35.7s\tremaining: 3m 22s\n",
            "1000:\ttest: 0.8486150\tbest: 0.8486481 (966)\ttotal: 46.5s\tremaining: 3m 5s\n",
            "Stopped by overfitting detector  (200 iterations wait)\n",
            "\n",
            "bestTest = 0.8486481191\n",
            "bestIteration = 966\n",
            "\n",
            "Shrink model to first 967 iterations.\n",
            "\n",
            "Testing scores 0.8486481191053611\n",
            "\n",
            "Training scores 0.8890688236106942\n",
            "========================Fold5==========================\n",
            "0:\ttest: 0.7976873\tbest: 0.7976873 (0)\ttotal: 45ms\tremaining: 3m 44s\n",
            "250:\ttest: 0.8382213\tbest: 0.8382213 (250)\ttotal: 11.1s\tremaining: 3m 30s\n",
            "500:\ttest: 0.8406750\tbest: 0.8407245 (496)\ttotal: 21.9s\tremaining: 3m 16s\n",
            "750:\ttest: 0.8410173\tbest: 0.8410660 (691)\ttotal: 32.7s\tremaining: 3m 5s\n",
            "1000:\ttest: 0.8410251\tbest: 0.8411415 (817)\ttotal: 43.7s\tremaining: 2m 54s\n",
            "Stopped by overfitting detector  (200 iterations wait)\n",
            "\n",
            "bestTest = 0.841141512\n",
            "bestIteration = 817\n",
            "\n",
            "Shrink model to first 818 iterations.\n",
            "\n",
            "Testing scores 0.8411415120389779\n",
            "\n",
            "Training scores 0.8819964517276514\n",
            "========================Fold6==========================\n",
            "0:\ttest: 0.8022439\tbest: 0.8022439 (0)\ttotal: 50.3ms\tremaining: 4m 11s\n",
            "250:\ttest: 0.8456641\tbest: 0.8456641 (250)\ttotal: 11.1s\tremaining: 3m 30s\n",
            "500:\ttest: 0.8473241\tbest: 0.8473389 (498)\ttotal: 22.5s\tremaining: 3m 22s\n",
            "750:\ttest: 0.8477716\tbest: 0.8478324 (746)\ttotal: 33.4s\tremaining: 3m 9s\n",
            "Stopped by overfitting detector  (200 iterations wait)\n",
            "\n",
            "bestTest = 0.8478324429\n",
            "bestIteration = 746\n",
            "\n",
            "Shrink model to first 747 iterations.\n",
            "\n",
            "Testing scores 0.8478324428838977\n",
            "\n",
            "Training scores 0.8783355665768353\n",
            "========================Fold7==========================\n",
            "0:\ttest: 0.7872877\tbest: 0.7872877 (0)\ttotal: 49.3ms\tremaining: 4m 6s\n",
            "250:\ttest: 0.8321991\tbest: 0.8321991 (250)\ttotal: 11.1s\tremaining: 3m 30s\n",
            "500:\ttest: 0.8361658\tbest: 0.8361658 (500)\ttotal: 22s\tremaining: 3m 17s\n",
            "750:\ttest: 0.8377947\tbest: 0.8378594 (740)\ttotal: 32.9s\tremaining: 3m 6s\n",
            "1000:\ttest: 0.8386791\tbest: 0.8387142 (996)\ttotal: 43.8s\tremaining: 2m 55s\n",
            "1250:\ttest: 0.8390111\tbest: 0.8392390 (1167)\ttotal: 54.7s\tremaining: 2m 44s\n",
            "1500:\ttest: 0.8392478\tbest: 0.8393998 (1476)\ttotal: 1m 5s\tremaining: 2m 33s\n",
            "Stopped by overfitting detector  (200 iterations wait)\n",
            "\n",
            "bestTest = 0.8395668816\n",
            "bestIteration = 1548\n",
            "\n",
            "Shrink model to first 1549 iterations.\n",
            "\n",
            "Testing scores 0.83956688162493\n",
            "\n",
            "Training scores 0.9126801489200083\n",
            "========================Fold8==========================\n",
            "0:\ttest: 0.7834297\tbest: 0.7834297 (0)\ttotal: 47.6ms\tremaining: 3m 57s\n",
            "250:\ttest: 0.8312266\tbest: 0.8312266 (250)\ttotal: 11.2s\tremaining: 3m 32s\n",
            "500:\ttest: 0.8339722\tbest: 0.8340069 (490)\ttotal: 22.2s\tremaining: 3m 19s\n",
            "750:\ttest: 0.8345778\tbest: 0.8346993 (727)\ttotal: 33.2s\tremaining: 3m 7s\n",
            "1000:\ttest: 0.8351939\tbest: 0.8353133 (930)\ttotal: 44.2s\tremaining: 2m 56s\n",
            "1250:\ttest: 0.8349874\tbest: 0.8353923 (1075)\ttotal: 55.2s\tremaining: 2m 45s\n",
            "Stopped by overfitting detector  (200 iterations wait)\n",
            "\n",
            "bestTest = 0.8353922965\n",
            "bestIteration = 1075\n",
            "\n",
            "Shrink model to first 1076 iterations.\n",
            "\n",
            "Testing scores 0.8353922965320741\n",
            "\n",
            "Training scores 0.8949412147380144\n",
            "========================Fold9==========================\n",
            "0:\ttest: 0.8013960\tbest: 0.8013960 (0)\ttotal: 49.2ms\tremaining: 4m 5s\n",
            "250:\ttest: 0.8399025\tbest: 0.8399025 (250)\ttotal: 11.1s\tremaining: 3m 30s\n",
            "500:\ttest: 0.8414454\tbest: 0.8414518 (477)\ttotal: 22s\tremaining: 3m 17s\n",
            "750:\ttest: 0.8420560\tbest: 0.8420560 (750)\ttotal: 33.1s\tremaining: 3m 7s\n",
            "1000:\ttest: 0.8418872\tbest: 0.8422984 (946)\ttotal: 45.2s\tremaining: 3m\n",
            "Stopped by overfitting detector  (200 iterations wait)\n",
            "\n",
            "bestTest = 0.8422983939\n",
            "bestIteration = 946\n",
            "\n",
            "Shrink model to first 947 iterations.\n",
            "\n",
            "Testing scores 0.8422983938811368\n",
            "\n",
            "Training scores 0.888883356485162\n",
            "========================Fold10==========================\n",
            "0:\ttest: 0.7908759\tbest: 0.7908759 (0)\ttotal: 52.1ms\tremaining: 4m 20s\n",
            "250:\ttest: 0.8400487\tbest: 0.8400499 (248)\ttotal: 12.6s\tremaining: 3m 58s\n",
            "500:\ttest: 0.8424217\tbest: 0.8424827 (496)\ttotal: 23.5s\tremaining: 3m 31s\n",
            "750:\ttest: 0.8429035\tbest: 0.8429035 (750)\ttotal: 34.6s\tremaining: 3m 15s\n",
            "1000:\ttest: 0.8431591\tbest: 0.8432622 (954)\ttotal: 45.7s\tremaining: 3m 2s\n",
            "1250:\ttest: 0.8433648\tbest: 0.8435077 (1208)\ttotal: 56.8s\tremaining: 2m 50s\n",
            "Stopped by overfitting detector  (200 iterations wait)\n",
            "\n",
            "bestTest = 0.8435077065\n",
            "bestIteration = 1208\n",
            "\n",
            "Shrink model to first 1209 iterations.\n",
            "\n",
            "Testing scores 0.8435077065019819\n",
            "\n",
            "Training scores 0.9005667464724361\n",
            "Average Testing ROC score for 10 folds split: 0.841476389127793\n",
            "Average Training ROC score for 10 folds split: 0.8898623946339586\n",
            "standard Deviation for 10 folds split: 0.004387148691646989\n"
          ],
          "name": "stdout"
        }
      ]
    },
    {
      "cell_type": "markdown",
      "metadata": {
        "id": "6u66rcJzLc-H"
      },
      "source": [
        "LGBM"
      ]
    },
    {
      "cell_type": "code",
      "metadata": {
        "id": "Chz_zqWKJbcn"
      },
      "source": [
        "clf3=LGBMClassifier(boosting_type='gbdt', class_weight=None, colsample_bytree=0.7,\n",
        "               importance_type='split', learning_rate=0.05, max_depth=3,\n",
        "               metric='auc', min_child_samples=15, min_child_weight=0.001,\n",
        "               min_split_gain=0.0, n_estimators=5000, n_jobs=-1, num_leaves=300,\n",
        "               num_threads=15, num_trees=500, objective=None, random_state=29,\n",
        "               reg_alpha=4, reg_lambda=4, silent=True, subsample=0.7,\n",
        "               subsample_for_bin=200000, subsample_freq=3)"
      ],
      "execution_count": null,
      "outputs": []
    },
    {
      "cell_type": "code",
      "metadata": {
        "id": "48WYgfGQLiTf",
        "outputId": "37685b75-9296-4c30-8a25-b30be310b428",
        "colab": {
          "base_uri": "https://localhost:8080/",
          "height": 1000
        }
      },
      "source": [
        "LGBM_train, LGBM_test, LGBM_name = lgbm_predict(clf3, train, target, test,'LGBM')"
      ],
      "execution_count": null,
      "outputs": [
        {
          "output_type": "stream",
          "text": [
            "Training until validation scores don't improve for 200 rounds.\n",
            "[250]\tvalid_0's auc: 0.832994\n",
            "[500]\tvalid_0's auc: 0.834734\n",
            "Did not meet early stopping. Best iteration is:\n",
            "[477]\tvalid_0's auc: 0.834758\n",
            "\n",
            "Validation scores 0.8347582313017391\n",
            "\n",
            "Training scores 0.8565784467131087\n",
            "========================Fold2==========================\n",
            "Training until validation scores don't improve for 200 rounds.\n",
            "[250]\tvalid_0's auc: 0.83602\n",
            "[500]\tvalid_0's auc: 0.837135\n",
            "Did not meet early stopping. Best iteration is:\n",
            "[485]\tvalid_0's auc: 0.837203\n",
            "\n",
            "Validation scores 0.8372030571447642\n",
            "\n",
            "Training scores 0.8563558260698734\n",
            "========================Fold3==========================\n",
            "Training until validation scores don't improve for 200 rounds.\n",
            "[250]\tvalid_0's auc: 0.838294\n",
            "[500]\tvalid_0's auc: 0.841396\n",
            "Did not meet early stopping. Best iteration is:\n",
            "[500]\tvalid_0's auc: 0.841396\n",
            "\n",
            "Validation scores 0.8413960843807278\n",
            "\n",
            "Training scores 0.8560760244973092\n",
            "========================Fold4==========================\n",
            "Training until validation scores don't improve for 200 rounds.\n",
            "[250]\tvalid_0's auc: 0.844361\n",
            "[500]\tvalid_0's auc: 0.846562\n",
            "Did not meet early stopping. Best iteration is:\n",
            "[493]\tvalid_0's auc: 0.846591\n",
            "\n",
            "Validation scores 0.8465908434330081\n",
            "\n",
            "Training scores 0.8553614805435277\n",
            "========================Fold5==========================\n",
            "Training until validation scores don't improve for 200 rounds.\n",
            "[250]\tvalid_0's auc: 0.837805\n",
            "[500]\tvalid_0's auc: 0.840685\n",
            "Did not meet early stopping. Best iteration is:\n",
            "[500]\tvalid_0's auc: 0.840685\n",
            "\n",
            "Validation scores 0.8406849720737937\n",
            "\n",
            "Training scores 0.8563553449764859\n",
            "========================Fold6==========================\n",
            "Training until validation scores don't improve for 200 rounds.\n",
            "[250]\tvalid_0's auc: 0.843998\n",
            "[500]\tvalid_0's auc: 0.845937\n",
            "Did not meet early stopping. Best iteration is:\n",
            "[500]\tvalid_0's auc: 0.845937\n",
            "\n",
            "Validation scores 0.8459365027265129\n",
            "\n",
            "Training scores 0.856165139754816\n",
            "========================Fold7==========================\n",
            "Training until validation scores don't improve for 200 rounds.\n",
            "[250]\tvalid_0's auc: 0.831257\n",
            "[500]\tvalid_0's auc: 0.834918\n",
            "Did not meet early stopping. Best iteration is:\n",
            "[486]\tvalid_0's auc: 0.835076\n",
            "\n",
            "Validation scores 0.8350763065058433\n",
            "\n",
            "Training scores 0.8560600853475305\n",
            "========================Fold8==========================\n",
            "Training until validation scores don't improve for 200 rounds.\n",
            "[250]\tvalid_0's auc: 0.831024\n",
            "[500]\tvalid_0's auc: 0.834307\n",
            "Did not meet early stopping. Best iteration is:\n",
            "[498]\tvalid_0's auc: 0.834325\n",
            "\n",
            "Validation scores 0.8343252914762337\n",
            "\n",
            "Training scores 0.8571583901326212\n",
            "========================Fold9==========================\n",
            "Training until validation scores don't improve for 200 rounds.\n",
            "[250]\tvalid_0's auc: 0.839066\n",
            "[500]\tvalid_0's auc: 0.841259\n",
            "Did not meet early stopping. Best iteration is:\n",
            "[495]\tvalid_0's auc: 0.841281\n",
            "\n",
            "Validation scores 0.8412807784284143\n",
            "\n",
            "Training scores 0.8560935529720934\n",
            "========================Fold10==========================\n",
            "Training until validation scores don't improve for 200 rounds.\n",
            "[250]\tvalid_0's auc: 0.840326\n",
            "[500]\tvalid_0's auc: 0.843027\n",
            "Did not meet early stopping. Best iteration is:\n",
            "[465]\tvalid_0's auc: 0.843111\n",
            "\n",
            "Validation scores 0.8431108657816418\n",
            "\n",
            "Training scores 0.8549488062963058\n",
            "Average Testing ROC score for 10 folds split: 0.8400362933252679\n",
            "Average Training ROC score for 10 folds split: 0.8561153097303672\n",
            "standard Deviation for 10 folds split: 0.004291250752815905\n"
          ],
          "name": "stdout"
        }
      ]
    },
    {
      "cell_type": "markdown",
      "metadata": {
        "id": "KCZQKHivLwtB"
      },
      "source": [
        "RANDOM FOREST"
      ]
    },
    {
      "cell_type": "code",
      "metadata": {
        "id": "p7HrAjMJL8g7"
      },
      "source": [
        "clf4=RandomForestClassifier(bootstrap=False, ccp_alpha=0.0, class_weight=None,\n",
        "                       criterion='gini', max_depth=10, max_features='auto',\n",
        "                       max_leaf_nodes=None, max_samples=None,\n",
        "                       min_impurity_decrease=0.0, min_impurity_split=None,\n",
        "                       min_samples_leaf=20, min_samples_split=20,\n",
        "                       min_weight_fraction_leaf=0.0, n_estimators=400,\n",
        "                       n_jobs=-1, oob_score=False, random_state=6, verbose=0,\n",
        "                       warm_start=False)"
      ],
      "execution_count": null,
      "outputs": []
    },
    {
      "cell_type": "code",
      "metadata": {
        "id": "-P2OjTK5M0AG",
        "outputId": "c19ba3b0-c49e-4e0c-cbed-12f3782fa77e",
        "colab": {
          "base_uri": "https://localhost:8080/",
          "height": 958
        }
      },
      "source": [
        "RF_train, RF_test, RF_name = model_predict(clf4, train, target, test,'RF')"
      ],
      "execution_count": null,
      "outputs": [
        {
          "output_type": "stream",
          "text": [
            "========================Fold1==========================\n",
            "\n",
            "Validation scores 0.8306279847787816\n",
            "\n",
            "Training scores 0.8861992803677387\n",
            "========================Fold2==========================\n",
            "\n",
            "Validation scores 0.8313701424932463\n",
            "\n",
            "Training scores 0.8861823952670765\n",
            "========================Fold3==========================\n",
            "\n",
            "Validation scores 0.8340843734838415\n",
            "\n",
            "Training scores 0.8856023701333954\n",
            "========================Fold4==========================\n",
            "\n",
            "Validation scores 0.8418490886189433\n",
            "\n",
            "Training scores 0.8852444792277329\n",
            "========================Fold5==========================\n",
            "\n",
            "Validation scores 0.832393951043807\n",
            "\n",
            "Training scores 0.8858514945519453\n",
            "========================Fold6==========================\n",
            "\n",
            "Validation scores 0.8423337337367709\n",
            "\n",
            "Training scores 0.8851825165239982\n",
            "========================Fold7==========================\n",
            "\n",
            "Validation scores 0.8265494027047229\n",
            "\n",
            "Training scores 0.8858131740036257\n",
            "========================Fold8==========================\n",
            "\n",
            "Validation scores 0.8271567310530104\n",
            "\n",
            "Training scores 0.885895204916245\n",
            "========================Fold9==========================\n",
            "\n",
            "Validation scores 0.835906189749856\n",
            "\n",
            "Training scores 0.885141600059136\n",
            "========================Fold10==========================\n",
            "\n",
            "Validation scores 0.836353368215782\n",
            "\n",
            "Training scores 0.8851824388210343\n",
            "Average Testing ROC score for 10 folds split: 0.8338624965878761\n",
            "Average Training ROC score for 10 folds split: 0.8856294953871927\n",
            "standard Deviation for 10 folds split: 0.005130857811429926\n"
          ],
          "name": "stdout"
        }
      ]
    },
    {
      "cell_type": "markdown",
      "metadata": {
        "id": "rnhOdDauND7j"
      },
      "source": [
        "GBM"
      ]
    },
    {
      "cell_type": "code",
      "metadata": {
        "id": "lej6Txw8NIwU"
      },
      "source": [
        "clf5 = GradientBoostingClassifier(ccp_alpha=0.0, criterion='friedman_mse', init=None,\n",
        "                           learning_rate=0.9, loss='deviance', max_depth=2,\n",
        "                           max_features=1, max_leaf_nodes=2,\n",
        "                           min_impurity_decrease=0.0, min_impurity_split=None,\n",
        "                           min_samples_leaf=20, min_samples_split=20,\n",
        "                           min_weight_fraction_leaf=0.1, n_estimators=200,\n",
        "                           n_iter_no_change=None, presort='deprecated',\n",
        "                           random_state=67, subsample=0.7, tol=0.0001,\n",
        "                           validation_fraction=0.1, verbose=0,\n",
        "                           warm_start=False)"
      ],
      "execution_count": null,
      "outputs": []
    },
    {
      "cell_type": "code",
      "metadata": {
        "id": "l2ATnv0VNXH_",
        "outputId": "927d03bc-12f1-4e5e-f804-de091eeb0f8a",
        "colab": {
          "base_uri": "https://localhost:8080/",
          "height": 958
        }
      },
      "source": [
        "GBM_train, GBM_test, GBM_name = model_predict(clf5, train, target, test,'GBM')"
      ],
      "execution_count": null,
      "outputs": [
        {
          "output_type": "stream",
          "text": [
            "========================Fold1==========================\n",
            "\n",
            "Validation scores 0.824439082787581\n",
            "\n",
            "Training scores 0.8313294087210702\n",
            "========================Fold2==========================\n",
            "\n",
            "Validation scores 0.8246105224269438\n",
            "\n",
            "Training scores 0.8322945970079092\n",
            "========================Fold3==========================\n",
            "\n",
            "Validation scores 0.8298233913002835\n",
            "\n",
            "Training scores 0.8317526974608214\n",
            "========================Fold4==========================\n",
            "\n",
            "Validation scores 0.832517529013227\n",
            "\n",
            "Training scores 0.8308236018217039\n",
            "========================Fold5==========================\n",
            "\n",
            "Validation scores 0.8254409870783839\n",
            "\n",
            "Training scores 0.8325468495978434\n",
            "========================Fold6==========================\n",
            "\n",
            "Validation scores 0.8336345265907417\n",
            "\n",
            "Training scores 0.8316307609821043\n",
            "========================Fold7==========================\n",
            "\n",
            "Validation scores 0.8208539108980529\n",
            "\n",
            "Training scores 0.8329769084183776\n",
            "========================Fold8==========================\n",
            "\n",
            "Validation scores 0.8178449376777336\n",
            "\n",
            "Training scores 0.8328530988573233\n",
            "========================Fold9==========================\n",
            "\n",
            "Validation scores 0.8291242128693619\n",
            "\n",
            "Training scores 0.8315603610323247\n",
            "========================Fold10==========================\n",
            "\n",
            "Validation scores 0.8283255321320311\n",
            "\n",
            "Training scores 0.8315574732495679\n",
            "Average Testing ROC score for 10 folds split: 0.8266614632774341\n",
            "Average Training ROC score for 10 folds split: 0.8319325757149046\n",
            "standard Deviation for 10 folds split: 0.004731203348580057\n"
          ],
          "name": "stdout"
        }
      ]
    },
    {
      "cell_type": "code",
      "metadata": {
        "id": "4IQmNG6wNrzu"
      },
      "source": [
        "Train_stack3 = pd.DataFrame(XGB_train)\n",
        "Train_stack3 = pd.concat([Train_stack3,pd.DataFrame(CAT_train),pd.DataFrame(LGBM_train),\n",
        "                        pd.DataFrame(RF_train),pd.DataFrame(GBM_train)],1)\n",
        "Test_stack3 = pd.DataFrame(XGB_test)\n",
        "Test_stack3 = pd.concat([Test_stack3,pd.DataFrame(CAT_test),pd.DataFrame(LGBM_test),\n",
        "                        pd.DataFrame(RF_test),pd.DataFrame(GBM_test)],1)\n",
        "Test_stack3.columns=[XGB_name, CAT_name, LGBM_name, RF_name, GBM_name]\n",
        "Train_stack3.columns=[XGB_name, CAT_name, LGBM_name, RF_name, GBM_name]\n",
        "Test_stack3 = Test_stack3/10"
      ],
      "execution_count": null,
      "outputs": []
    },
    {
      "cell_type": "code",
      "metadata": {
        "id": "4neSTWRKN45e",
        "outputId": "4bd035df-238a-47ce-f8c8-8cda8c6a07c7",
        "colab": {
          "base_uri": "https://localhost:8080/",
          "height": 406
        }
      },
      "source": [
        "Train_stack3"
      ],
      "execution_count": null,
      "outputs": [
        {
          "output_type": "execute_result",
          "data": {
            "text/html": [
              "<div>\n",
              "<style scoped>\n",
              "    .dataframe tbody tr th:only-of-type {\n",
              "        vertical-align: middle;\n",
              "    }\n",
              "\n",
              "    .dataframe tbody tr th {\n",
              "        vertical-align: top;\n",
              "    }\n",
              "\n",
              "    .dataframe thead th {\n",
              "        text-align: right;\n",
              "    }\n",
              "</style>\n",
              "<table border=\"1\" class=\"dataframe\">\n",
              "  <thead>\n",
              "    <tr style=\"text-align: right;\">\n",
              "      <th></th>\n",
              "      <th>XGB</th>\n",
              "      <th>CAT</th>\n",
              "      <th>LGBM</th>\n",
              "      <th>RF</th>\n",
              "      <th>GBM</th>\n",
              "    </tr>\n",
              "  </thead>\n",
              "  <tbody>\n",
              "    <tr>\n",
              "      <th>0</th>\n",
              "      <td>0.260084</td>\n",
              "      <td>0.343473</td>\n",
              "      <td>0.311368</td>\n",
              "      <td>0.273966</td>\n",
              "      <td>0.324018</td>\n",
              "    </tr>\n",
              "    <tr>\n",
              "      <th>1</th>\n",
              "      <td>0.232360</td>\n",
              "      <td>0.210872</td>\n",
              "      <td>0.185168</td>\n",
              "      <td>0.231427</td>\n",
              "      <td>0.169643</td>\n",
              "    </tr>\n",
              "    <tr>\n",
              "      <th>2</th>\n",
              "      <td>0.404768</td>\n",
              "      <td>0.424632</td>\n",
              "      <td>0.435665</td>\n",
              "      <td>0.465043</td>\n",
              "      <td>0.398389</td>\n",
              "    </tr>\n",
              "    <tr>\n",
              "      <th>3</th>\n",
              "      <td>0.219375</td>\n",
              "      <td>0.208893</td>\n",
              "      <td>0.174845</td>\n",
              "      <td>0.210187</td>\n",
              "      <td>0.146196</td>\n",
              "    </tr>\n",
              "    <tr>\n",
              "      <th>4</th>\n",
              "      <td>0.425473</td>\n",
              "      <td>0.366119</td>\n",
              "      <td>0.460799</td>\n",
              "      <td>0.446903</td>\n",
              "      <td>0.351695</td>\n",
              "    </tr>\n",
              "    <tr>\n",
              "      <th>...</th>\n",
              "      <td>...</td>\n",
              "      <td>...</td>\n",
              "      <td>...</td>\n",
              "      <td>...</td>\n",
              "      <td>...</td>\n",
              "    </tr>\n",
              "    <tr>\n",
              "      <th>55995</th>\n",
              "      <td>0.010485</td>\n",
              "      <td>0.006508</td>\n",
              "      <td>0.006888</td>\n",
              "      <td>0.011156</td>\n",
              "      <td>0.009713</td>\n",
              "    </tr>\n",
              "    <tr>\n",
              "      <th>55996</th>\n",
              "      <td>0.340953</td>\n",
              "      <td>0.236717</td>\n",
              "      <td>0.316187</td>\n",
              "      <td>0.323715</td>\n",
              "      <td>0.481037</td>\n",
              "    </tr>\n",
              "    <tr>\n",
              "      <th>55997</th>\n",
              "      <td>0.084003</td>\n",
              "      <td>0.078433</td>\n",
              "      <td>0.079466</td>\n",
              "      <td>0.107394</td>\n",
              "      <td>0.065693</td>\n",
              "    </tr>\n",
              "    <tr>\n",
              "      <th>55998</th>\n",
              "      <td>0.682400</td>\n",
              "      <td>0.757734</td>\n",
              "      <td>0.731954</td>\n",
              "      <td>0.561184</td>\n",
              "      <td>0.508509</td>\n",
              "    </tr>\n",
              "    <tr>\n",
              "      <th>55999</th>\n",
              "      <td>0.149622</td>\n",
              "      <td>0.179815</td>\n",
              "      <td>0.180547</td>\n",
              "      <td>0.145524</td>\n",
              "      <td>0.166971</td>\n",
              "    </tr>\n",
              "  </tbody>\n",
              "</table>\n",
              "<p>56000 rows × 5 columns</p>\n",
              "</div>"
            ],
            "text/plain": [
              "            XGB       CAT      LGBM        RF       GBM\n",
              "0      0.260084  0.343473  0.311368  0.273966  0.324018\n",
              "1      0.232360  0.210872  0.185168  0.231427  0.169643\n",
              "2      0.404768  0.424632  0.435665  0.465043  0.398389\n",
              "3      0.219375  0.208893  0.174845  0.210187  0.146196\n",
              "4      0.425473  0.366119  0.460799  0.446903  0.351695\n",
              "...         ...       ...       ...       ...       ...\n",
              "55995  0.010485  0.006508  0.006888  0.011156  0.009713\n",
              "55996  0.340953  0.236717  0.316187  0.323715  0.481037\n",
              "55997  0.084003  0.078433  0.079466  0.107394  0.065693\n",
              "55998  0.682400  0.757734  0.731954  0.561184  0.508509\n",
              "55999  0.149622  0.179815  0.180547  0.145524  0.166971\n",
              "\n",
              "[56000 rows x 5 columns]"
            ]
          },
          "metadata": {
            "tags": []
          },
          "execution_count": 137
        }
      ]
    },
    {
      "cell_type": "code",
      "metadata": {
        "id": "dN4mV6epN8p3",
        "outputId": "7fdcff1a-a410-40d5-b3e4-4dafa1490c11",
        "colab": {
          "base_uri": "https://localhost:8080/",
          "height": 406
        }
      },
      "source": [
        "Test_stack3"
      ],
      "execution_count": null,
      "outputs": [
        {
          "output_type": "execute_result",
          "data": {
            "text/html": [
              "<div>\n",
              "<style scoped>\n",
              "    .dataframe tbody tr th:only-of-type {\n",
              "        vertical-align: middle;\n",
              "    }\n",
              "\n",
              "    .dataframe tbody tr th {\n",
              "        vertical-align: top;\n",
              "    }\n",
              "\n",
              "    .dataframe thead th {\n",
              "        text-align: right;\n",
              "    }\n",
              "</style>\n",
              "<table border=\"1\" class=\"dataframe\">\n",
              "  <thead>\n",
              "    <tr style=\"text-align: right;\">\n",
              "      <th></th>\n",
              "      <th>XGB</th>\n",
              "      <th>CAT</th>\n",
              "      <th>LGBM</th>\n",
              "      <th>RF</th>\n",
              "      <th>GBM</th>\n",
              "    </tr>\n",
              "  </thead>\n",
              "  <tbody>\n",
              "    <tr>\n",
              "      <th>0</th>\n",
              "      <td>0.323384</td>\n",
              "      <td>0.309210</td>\n",
              "      <td>0.328961</td>\n",
              "      <td>0.382646</td>\n",
              "      <td>0.285797</td>\n",
              "    </tr>\n",
              "    <tr>\n",
              "      <th>1</th>\n",
              "      <td>0.379874</td>\n",
              "      <td>0.341332</td>\n",
              "      <td>0.377462</td>\n",
              "      <td>0.367112</td>\n",
              "      <td>0.309156</td>\n",
              "    </tr>\n",
              "    <tr>\n",
              "      <th>2</th>\n",
              "      <td>0.385731</td>\n",
              "      <td>0.404763</td>\n",
              "      <td>0.380885</td>\n",
              "      <td>0.378076</td>\n",
              "      <td>0.348609</td>\n",
              "    </tr>\n",
              "    <tr>\n",
              "      <th>3</th>\n",
              "      <td>0.712136</td>\n",
              "      <td>0.755976</td>\n",
              "      <td>0.759209</td>\n",
              "      <td>0.654173</td>\n",
              "      <td>0.649934</td>\n",
              "    </tr>\n",
              "    <tr>\n",
              "      <th>4</th>\n",
              "      <td>0.161127</td>\n",
              "      <td>0.174181</td>\n",
              "      <td>0.152882</td>\n",
              "      <td>0.180647</td>\n",
              "      <td>0.264255</td>\n",
              "    </tr>\n",
              "    <tr>\n",
              "      <th>...</th>\n",
              "      <td>...</td>\n",
              "      <td>...</td>\n",
              "      <td>...</td>\n",
              "      <td>...</td>\n",
              "      <td>...</td>\n",
              "    </tr>\n",
              "    <tr>\n",
              "      <th>23995</th>\n",
              "      <td>0.642278</td>\n",
              "      <td>0.720047</td>\n",
              "      <td>0.650161</td>\n",
              "      <td>0.571598</td>\n",
              "      <td>0.473513</td>\n",
              "    </tr>\n",
              "    <tr>\n",
              "      <th>23996</th>\n",
              "      <td>0.251263</td>\n",
              "      <td>0.277342</td>\n",
              "      <td>0.273476</td>\n",
              "      <td>0.203948</td>\n",
              "      <td>0.206974</td>\n",
              "    </tr>\n",
              "    <tr>\n",
              "      <th>23997</th>\n",
              "      <td>0.313686</td>\n",
              "      <td>0.268914</td>\n",
              "      <td>0.268729</td>\n",
              "      <td>0.388459</td>\n",
              "      <td>0.314914</td>\n",
              "    </tr>\n",
              "    <tr>\n",
              "      <th>23998</th>\n",
              "      <td>0.515338</td>\n",
              "      <td>0.515777</td>\n",
              "      <td>0.469424</td>\n",
              "      <td>0.543166</td>\n",
              "      <td>0.529415</td>\n",
              "    </tr>\n",
              "    <tr>\n",
              "      <th>23999</th>\n",
              "      <td>0.185934</td>\n",
              "      <td>0.205337</td>\n",
              "      <td>0.208331</td>\n",
              "      <td>0.207018</td>\n",
              "      <td>0.112943</td>\n",
              "    </tr>\n",
              "  </tbody>\n",
              "</table>\n",
              "<p>24000 rows × 5 columns</p>\n",
              "</div>"
            ],
            "text/plain": [
              "            XGB       CAT      LGBM        RF       GBM\n",
              "0      0.323384  0.309210  0.328961  0.382646  0.285797\n",
              "1      0.379874  0.341332  0.377462  0.367112  0.309156\n",
              "2      0.385731  0.404763  0.380885  0.378076  0.348609\n",
              "3      0.712136  0.755976  0.759209  0.654173  0.649934\n",
              "4      0.161127  0.174181  0.152882  0.180647  0.264255\n",
              "...         ...       ...       ...       ...       ...\n",
              "23995  0.642278  0.720047  0.650161  0.571598  0.473513\n",
              "23996  0.251263  0.277342  0.273476  0.203948  0.206974\n",
              "23997  0.313686  0.268914  0.268729  0.388459  0.314914\n",
              "23998  0.515338  0.515777  0.469424  0.543166  0.529415\n",
              "23999  0.185934  0.205337  0.208331  0.207018  0.112943\n",
              "\n",
              "[24000 rows x 5 columns]"
            ]
          },
          "metadata": {
            "tags": []
          },
          "execution_count": 138
        }
      ]
    },
    {
      "cell_type": "code",
      "metadata": {
        "id": "Vfu1vuPHOGri"
      },
      "source": [
        "meta_estimator = LinearRegression()\n",
        "final_prediction = meta_estimator.fit(Train_stack3, target).predict(Test_stack3)"
      ],
      "execution_count": null,
      "outputs": []
    },
    {
      "cell_type": "code",
      "metadata": {
        "id": "RtRIpJY4XRvz",
        "outputId": "cfe5271d-191f-4341-b2ec-a62e463c0f6c",
        "colab": {
          "base_uri": "https://localhost:8080/",
          "height": 197
        }
      },
      "source": [
        "Train_stack3.corr()"
      ],
      "execution_count": null,
      "outputs": [
        {
          "output_type": "execute_result",
          "data": {
            "text/html": [
              "<div>\n",
              "<style scoped>\n",
              "    .dataframe tbody tr th:only-of-type {\n",
              "        vertical-align: middle;\n",
              "    }\n",
              "\n",
              "    .dataframe tbody tr th {\n",
              "        vertical-align: top;\n",
              "    }\n",
              "\n",
              "    .dataframe thead th {\n",
              "        text-align: right;\n",
              "    }\n",
              "</style>\n",
              "<table border=\"1\" class=\"dataframe\">\n",
              "  <thead>\n",
              "    <tr style=\"text-align: right;\">\n",
              "      <th></th>\n",
              "      <th>XGB</th>\n",
              "      <th>CAT</th>\n",
              "      <th>LGBM</th>\n",
              "      <th>RF</th>\n",
              "      <th>GBM</th>\n",
              "    </tr>\n",
              "  </thead>\n",
              "  <tbody>\n",
              "    <tr>\n",
              "      <th>XGB</th>\n",
              "      <td>1.000000</td>\n",
              "      <td>0.988135</td>\n",
              "      <td>0.991783</td>\n",
              "      <td>0.984291</td>\n",
              "      <td>0.952192</td>\n",
              "    </tr>\n",
              "    <tr>\n",
              "      <th>CAT</th>\n",
              "      <td>0.988135</td>\n",
              "      <td>1.000000</td>\n",
              "      <td>0.988357</td>\n",
              "      <td>0.965316</td>\n",
              "      <td>0.939354</td>\n",
              "    </tr>\n",
              "    <tr>\n",
              "      <th>LGBM</th>\n",
              "      <td>0.991783</td>\n",
              "      <td>0.988357</td>\n",
              "      <td>1.000000</td>\n",
              "      <td>0.969843</td>\n",
              "      <td>0.946061</td>\n",
              "    </tr>\n",
              "    <tr>\n",
              "      <th>RF</th>\n",
              "      <td>0.984291</td>\n",
              "      <td>0.965316</td>\n",
              "      <td>0.969843</td>\n",
              "      <td>1.000000</td>\n",
              "      <td>0.942105</td>\n",
              "    </tr>\n",
              "    <tr>\n",
              "      <th>GBM</th>\n",
              "      <td>0.952192</td>\n",
              "      <td>0.939354</td>\n",
              "      <td>0.946061</td>\n",
              "      <td>0.942105</td>\n",
              "      <td>1.000000</td>\n",
              "    </tr>\n",
              "  </tbody>\n",
              "</table>\n",
              "</div>"
            ],
            "text/plain": [
              "           XGB       CAT      LGBM        RF       GBM\n",
              "XGB   1.000000  0.988135  0.991783  0.984291  0.952192\n",
              "CAT   0.988135  1.000000  0.988357  0.965316  0.939354\n",
              "LGBM  0.991783  0.988357  1.000000  0.969843  0.946061\n",
              "RF    0.984291  0.965316  0.969843  1.000000  0.942105\n",
              "GBM   0.952192  0.939354  0.946061  0.942105  1.000000"
            ]
          },
          "metadata": {
            "tags": []
          },
          "execution_count": 140
        }
      ]
    },
    {
      "cell_type": "code",
      "metadata": {
        "id": "lwTOLir7PsEI",
        "outputId": "838c8343-8e13-4ebe-9e16-8451860804c7",
        "colab": {
          "base_uri": "https://localhost:8080/",
          "height": 52
        }
      },
      "source": [
        "final_prediction"
      ],
      "execution_count": null,
      "outputs": [
        {
          "output_type": "execute_result",
          "data": {
            "text/plain": [
              "array([0.31042478, 0.35989204, 0.39944313, ..., 0.27037769, 0.50510483,\n",
              "       0.20206328])"
            ]
          },
          "metadata": {
            "tags": []
          },
          "execution_count": 142
        }
      ]
    },
    {
      "cell_type": "code",
      "metadata": {
        "id": "4AcJlScg8I52",
        "outputId": "0e7b1b44-b828-49e1-8e03-eba2cd203d4d",
        "colab": {
          "base_uri": "https://localhost:8080/",
          "height": 265
        }
      },
      "source": [
        "# Create a data frame with two columns: Applicant_ID & default_status. default_status contains your predictions\n",
        "Applicant_ID = np.array(Test['Applicant_ID'])\n",
        "Solution = pd.DataFrame(final_prediction, Applicant_ID, columns = [\"default_status\"])\n",
        "print(Solution)"
      ],
      "execution_count": null,
      "outputs": [
        {
          "output_type": "stream",
          "text": [
            "               default_status\n",
            "Apcnt_1000032        0.310425\n",
            "Apcnt_1000048        0.359892\n",
            "Apcnt_1000052        0.399443\n",
            "Apcnt_1000076        0.756601\n",
            "Apcnt_1000080        0.162549\n",
            "...                       ...\n",
            "Apcnt_999940         0.706461\n",
            "Apcnt_999956         0.278454\n",
            "Apcnt_999976         0.270378\n",
            "Apcnt_999984         0.505105\n",
            "Apcnt_999992         0.202063\n",
            "\n",
            "[24000 rows x 1 columns]\n"
          ],
          "name": "stdout"
        }
      ]
    },
    {
      "cell_type": "code",
      "metadata": {
        "id": "K7bJxOvV8I6A"
      },
      "source": [
        "# Write your solution to a csv file with the name Solution.csv\n",
        "Solution.to_csv(\"Zindi Credit Project37.csv\", index_label = [\"Applicant_ID\"])"
      ],
      "execution_count": null,
      "outputs": []
    }
  ]
}